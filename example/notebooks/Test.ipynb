{
 "cells": [
  {
   "cell_type": "code",
   "execution_count": 2,
   "id": "58f0b515-961b-4c33-b308-3c2d84cd4818",
   "metadata": {},
   "outputs": [
    {
     "name": "stdout",
     "output_type": "stream",
     "text": [
      "Microsoft SQL Server 2019 (RTM-CU18) (KB5017593) - 15.0.4261.1 (X64) \n",
      "\tSep 12 2022 15:07:06 \n",
      "\tCopyright (C) 2019 Microsoft Corporation\n",
      "\tDeveloper Edition (64-bit) on Linux (Ubuntu 20.04.5 LTS) <X64>\n"
     ]
    }
   ],
   "source": [
    "import pyodbc\n",
    "import os\n",
    "\n",
    "server = 'tcp:db'    # The hostname of the database server, format tcp:<hostname> \n",
    "database = 'TestDB'  # The name of the database to use\n",
    "username = 'SA'      # The name of the database user\n",
    "password = os.environ['MSSQL_SA_PASSWORD'] # The database password, here we injected it to the Jupyter\n",
    "                                           # container as an environment variable in docker-compose.yml\n",
    "driver = os.environ['MSSQL_DRIVER']        # The database driver to use, provided by the image\n",
    "\n",
    "# Connect to the database server using pyodbc. Note that we have added\n",
    "# TrustServerCertificate=yes to the connection string, as the Microsoft SQL\n",
    "# server container is using a self-signed certificate.\n",
    "conn_string = 'DRIVER={'  + driver + '};SERVER=' + server + ';DATABASE=' + database + ';TrustServerCertificate=yes;UID=' + username + ';PWD=' + password\n",
    "connection = pyodbc.connect(conn_string)\n",
    "cursor = connection.cursor()\n",
    "\n",
    "# Perform a sample query to the database server to test connectivity.\n",
    "# This should print something like:\n",
    "# Microsoft SQL Server 2019 (RTM-CU18) (KB5017593) - 15.0.4261.1 (X64) \n",
    "#\t Sep 12 2022 15:07:06 \n",
    "#\t Copyright (C) 2019 Microsoft Corporation\n",
    "#\t Developer Edition (64-bit) on Linux (Ubuntu 20.04.5 LTS) <X64>\n",
    "cursor.execute(\"SELECT @@version;\") \n",
    "row = cursor.fetchone() \n",
    "while row: \n",
    "    print(row[0])\n",
    "    row = cursor.fetchone()"
   ]
  },
  {
   "cell_type": "code",
   "execution_count": 25,
   "id": "0d03f99d-e501-460b-9abb-e995e1d8e111",
   "metadata": {},
   "outputs": [
    {
     "data": {
      "text/plain": [
       "[(task = 'Verify integration between SQL Server and Jupyter container.', completed = 'True'),\n",
       " (task = 'Push commits upstream.', completed = 'False')]"
      ]
     },
     "execution_count": 25,
     "metadata": {},
     "output_type": "execute_result"
    }
   ],
   "source": [
    "from urllib.parse import quote_plus\n",
    "from sqlalchemy import create_engine\n",
    "from sqlalchemy.ext.declarative import declarative_base\n",
    "from sqlalchemy import Column, Integer, String, Boolean\n",
    "from sqlalchemy.orm import sessionmaker\n",
    "\n",
    "# Use the same connection string we used with pyodbc for simplicity. Note that\n",
    "# sqlalchemy requires the connection string to be URL-encoded.\n",
    "engine = create_engine(\"mssql+pyodbc:///?odbc_connect=%s\" % quote_plus(conn_string))\n",
    "\n",
    "# Create an object which will be used for ORM\n",
    "Base = declarative_base()\n",
    "class Task(Base):\n",
    "    __tablename__ = 'TodoList'\n",
    "    \n",
    "    id = Column(Integer, primary_key = True)\n",
    "    task = Column(String)\n",
    "    completed = Column(Boolean)\n",
    "    \n",
    "    def __repr__(self):\n",
    "        return \"(task = '%s', completed = '%s')\" % (self.task, self.completed)\n",
    "    \n",
    "Base.metadata.create_all(engine)\n",
    "\n",
    "Session = sessionmaker(bind = engine)\n",
    "session = Session()\n",
    "task1 = Task(task = 'Verify integration between SQL Server and Jupyter container.', completed = True)\n",
    "task2 = Task(task = 'Push commits upstream.', completed = False)\n",
    "session.add(task1)\n",
    "session.add(task2)\n",
    "session.commit()\n",
    "\n",
    "session.query(Task).all()"
   ]
  }
 ],
 "metadata": {
  "kernelspec": {
   "display_name": "Python 3 (ipykernel)",
   "language": "python",
   "name": "python3"
  },
  "language_info": {
   "codemirror_mode": {
    "name": "ipython",
    "version": 3
   },
   "file_extension": ".py",
   "mimetype": "text/x-python",
   "name": "python",
   "nbconvert_exporter": "python",
   "pygments_lexer": "ipython3",
   "version": "3.10.6"
  },
  "vscode": {
   "interpreter": {
    "hash": "916dbcbb3f70747c44a77c7bcd40155683ae19c65e1c03b4aa3499c5328201f1"
   }
  }
 },
 "nbformat": 4,
 "nbformat_minor": 5
}
